{
 "cells": [
  {
   "cell_type": "markdown",
   "metadata": {},
   "source": [
    "Hello World program tutorial for quantum computing in qiskit from https://docs.quantum.ibm.com/start/hello-world accessed on 18/02/24"
   ]
  },
  {
   "cell_type": "code",
   "execution_count": 1,
   "metadata": {},
   "outputs": [
    {
     "data": {
      "image/png": "[encoded data removed]",
      "text/plain": [
       "<Figure size 287.294x200.667 with 1 Axes>"
      ]
     },
     "execution_count": 1,
     "metadata": {},
     "output_type": "execute_result"
    }
   ],
   "source": [
    "from qiskit import QuantumCircuit;\n",
    "\n",
    "#create a new quantum circuit, it can have qubits and regular bits, first argument is qubits, 2nd argument is regular bits\n",
    "qc = QuantumCircuit(2);\n",
    "\n",
    "#sets qubit at index 0 to be in superposition\n",
    "#h stands for hadamard gate, it takes a q bit and transforms it into superposition\n",
    "qc.h(0);\n",
    "\n",
    "#performs a controlled x-gate on cubit 1 controlled by qubit 0\n",
    "#I think this means that if qubit 0 is in the 1 position it flips qubit 1, if qubit 1 is in the 0 position nothing happens\n",
    "qc.cx(0,1);\n",
    "\n",
    "qc.draw(\"mpl\")\n",
    "\n"
   ]
  },
  {
   "cell_type": "code",
   "execution_count": 2,
   "metadata": {},
   "outputs": [
    {
     "data": {
      "image/png": "[encoded data removed]",
      "text/plain": [
       "<Figure size 454.517x284.278 with 1 Axes>"
      ]
     },
     "execution_count": 2,
     "metadata": {},
     "output_type": "execute_result"
    }
   ],
   "source": [
    "#Let's create a new quantum circuit with 2 regular bits\n",
    "qc_two = QuantumCircuit(2,2);\n",
    "\n",
    "#sets qubit at index 0 to be in superposition same as previous circuit\n",
    "qc_two.h(0);\n",
    "\n",
    "#performs a controlled x-gate on cubit 1 controlled by qubit 0\n",
    "#I think this means that if qubit 0 is in the 1 position it flips qubit 1, if qubit 1 is in the 0 position nothing happens\n",
    "qc_two.cx(0,1);\n",
    "\n",
    "qc_two.draw(\"mpl\")\n",
    "\n",
    "#lets measure qubit0 and put the result in bit 0, same with qubit 1 into bit 1\n",
    "qc_two.measure([0,1],[0,1])\n",
    "qc_two.draw(\"mpl\")\n",
    "\n",
    "#It appears that the bits are set to measure the qubits, but no measurements have taken place yet\n",
    "#this is apparently called a simple bell state circuit"
   ]
  },
  {
   "cell_type": "code",
   "execution_count": 3,
   "metadata": {},
   "outputs": [],
   "source": [
    "#now we are adding Pauli operators on the first circuit.\n",
    "from qiskit.quantum_info import Pauli\n",
    "\n",
    "#I don't understand what the symbols mean\n",
    "#The tutorial states that \" If the state is entangled, then the correlation between qubit 1 and qubit 2 is one.\"\n",
    "#I need to research Pauli operators before I continue\n",
    "#Each string applies a different pauli operator\n",
    "ZZ = Pauli('ZZ')\n",
    "ZI = Pauli('ZI')\n",
    "IZ = Pauli('IZ')\n",
    "XX = Pauli('XX')\n",
    "XI = Pauli('XI')\n",
    "IX = Pauli('IX')"
   ]
  },
  {
   "cell_type": "code",
   "execution_count": null,
   "metadata": {},
   "outputs": [],
   "source": []
  },
  {
   "cell_type": "code",
   "execution_count": null,
   "metadata": {},
   "outputs": [],
   "source": []
  }
 ],
 "metadata": {
  "kernelspec": {
   "display_name": "Python 3",
   "language": "python",
   "name": "python3"
  },
  "language_info": {
   "codemirror_mode": {
    "name": "ipython",
    "version": 3
   },
   "file_extension": ".py",
   "mimetype": "text/x-python",
   "name": "python",
   "nbconvert_exporter": "python",
   "pygments_lexer": "ipython3",
   "version": "3.12.2"
  }
 },
 "nbformat": 4,
 "nbformat_minor": 2
}
